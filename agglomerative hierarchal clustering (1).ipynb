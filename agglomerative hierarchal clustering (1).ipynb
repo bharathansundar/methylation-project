{
 "cells": [
  {
   "cell_type": "markdown",
   "metadata": {},
   "source": [
    "# Agglomerative hierarchal clustering\n",
    "\n",
    "\n"
   ]
  },
  {
   "cell_type": "code",
   "execution_count": 39,
   "metadata": {},
   "outputs": [
    {
     "name": "stderr",
     "output_type": "stream",
     "text": [
      "IOPub data rate exceeded.\n",
      "The notebook server will temporarily stop sending output\n",
      "to the client in order to avoid crashing it.\n",
      "To change this limit, set the config variable\n",
      "`--NotebookApp.iopub_data_rate_limit`.\n",
      "\n",
      "Current values:\n",
      "NotebookApp.iopub_data_rate_limit=1000000.0 (bytes/sec)\n",
      "NotebookApp.rate_limit_window=3.0 (secs)\n",
      "\n"
     ]
    }
   ],
   "source": [
    "import pandas as pd\n",
    "from matplotlib import pyplot as plt\n",
    "import numpy as np\n",
    "from sklearn.preprocessing import StandardScaler\n",
    "from sklearn.decomposition import PCA\n",
    "from sklearn.cluster import KMeans\n",
    "\n",
    "#loading df\n",
    "file = 'C:/Users/{kr.pA}/Downloads/methylated data/modified.csv'\n",
    "df = pd.read_csv(file, sep = ',')\n",
    "\n",
    "#editing df to desired format\n",
    "df = df.transpose()\n",
    "\n",
    "#log transform\n",
    "a = df.iloc[0:1]\n",
    "\n",
    "b = df.iloc[1:]\n",
    "b = b.astype(float)\n",
    "b = b.transform(np.log)\n",
    "\n",
    "df = pd.concat([a, b])\n",
    "\n",
    "#inserting patient numbers\n",
    "df.insert(416349, 416349, ['Patient Number','Patient 3 rep 1', 'Patient 3 rep 1','Patient 3 rep 1','Patient 3 rep 1','Patient 9','Patient 9','Patient 9','Patient 9','Patient 10','Patient 10',\n",
    "             'Patient 11','Patient 11','Patient 11','Patient 11','Patient 12 rep 1','Patient 12 rep 1','Patient 14','Patient 14','Patient 14 rep 1','Patient 14 rep 1',\n",
    "             'Patient 1','Patient 1','Patient 1','Patient 1','Patient 2','Patient 2','Patient 2','Patient 2','Patient 3','Patient 3',\n",
    "             'Patient 3', 'Patient 3','Patient 4', 'Patient 4','Patient 4', 'Patient 4','Patient 7','Patient 7','Patient 7','Patient 7',\n",
    "             'Patient 8','Patient 8','Patient 8','Patient 8','Patient 9','Patient 9','Patient 10','Patient 10','Patient 12','Patient 12',\n",
    "             'Patient 14','Patient 14','Patient 15','Patient 15','Patient 15','Patient 15','Patient 16','Patient 16','Patient 16','Patient 16',\n",
    "             'Patient 18','Patient 18','Patient 18','Patient 18','Patient 19','Patient 19','Patient 19','Patient 19','Patient 20','Patient 20',\n",
    "             'Patient 20','Patient 20','Patient 21','Patient 21','Patient 21','Patient 21','Patient 22','Patient 22','Patient 22','Patient 22',\n",
    "             'Patient 26','Patient 26','Patient 26','Patient 26','Patient 28','Patient 28','Patient 28','Patient 28','Patient 29','Patient 29',\n",
    "             'Patient 29','Patient 29','Patient 29 rep 2','Patient 29 rep 2'], True) \n",
    "\n",
    "#populating a list of the genes and the patient number heading to rename the columns and initialize features list\n",
    "genelist = list(df.iloc[0,0:])\n",
    "\n",
    "features = genelist[:-1]\n",
    "df.columns = genelist\n",
    "\n",
    "print(genelist)\n",
    "\n",
    "df = df.drop(['ID_REF'], axis = 0)\n",
    "\n",
    "\n",
    "#***SEPARATING PRIMARY VS RECURRENT***\n",
    "\n",
    "missing = df.iloc[10:16]\n",
    "\n",
    "#recur1 = unmeth\n",
    "#recur2 = meth\n",
    "#prim1 = unmeth\n",
    "#prim2 = meth\n",
    "\n",
    "recurmissing = missing.iloc[2:]\n",
    "\n",
    "#recurrent\n",
    "\n",
    "recur1 = df.iloc[3::4]\n",
    "recur1 = recur1.drop(\"Patient 11_primary tumour Unmethylated signal\")\n",
    "\n",
    "recur1 = pd.concat([recur1, recurmissing.iloc[1::2]])\n",
    "\n",
    "recur2 = df.iloc[2::4]\n",
    "recur2 = recur2.drop(\"Patient 11_primary tumour Methylated signal\")\n",
    "\n",
    "\n",
    "s = df.iloc[-1:]\n",
    "recur1 = pd.concat([recur1, s])\n",
    "\n",
    "xs = df.iloc[-2:-1]\n",
    "recur2= pd.concat([recur2, xs])\n",
    "recur2= pd.concat([recur2, recurmissing.iloc[::2]])\n",
    "\n",
    "\n",
    "#primary\n",
    "\n",
    "prim1 = df.iloc[1::4]\n",
    "prim1 = prim1.drop(\"Patient 11_recurrent tumour Unmethylated signal\")\n",
    "prim1 = prim1.drop(\"Patient 12_recurrent tumour Unmethylated signal\")\n",
    "prim1 = prim1.drop(\"Patient 29_recurrent tumour_2 Unmethylated signal\")\n",
    "\n",
    "prim1 = pd.concat([prim1, missing.iloc[1:2]])\n",
    "\n",
    "prim2 = df.iloc[::4]\n",
    "prim2 = prim2.drop(\"Patient 11_recurrent tumour Methylated signal\")\n",
    "prim2 = prim2.drop(\"Patient 12_recurrent tumour Methylated signal\")\n",
    "prim2 = prim2.drop(\"Patient 29_recurrent tumour_2 Methylated signal\")\n",
    "\n",
    "prim2= pd.concat([prim2,missing.iloc[0:1]])\n",
    "\n",
    "#final indexed dataframes for the primary and recurrent data (separated by meth and unmeth within)\n",
    "\n",
    "primary = pd.concat([prim1,prim2])   \n",
    "primary = primary.drop([\"Patient Number\"], axis = 1)\n",
    "recurrent = pd.concat([recur1, recur2])\n",
    "recurrent = recurrent.drop([\"Patient Number\"], axis = 1)\n",
    "meth = df.iloc[::2]\n",
    "meth = meth.drop([\"Patient Number\"], axis = 1)\n",
    "unmeth = df.iloc[1::2]\n",
    "unmeth = unmeth.drop([\"Patient Number\"], axis = 1)\n"
   ]
  },
  {
   "cell_type": "code",
   "execution_count": 87,
   "metadata": {},
   "outputs": [
    {
     "data": {
      "text/plain": [
       "<matplotlib.lines.Line2D at 0x2aa2f4aba88>"
      ]
     },
     "execution_count": 87,
     "metadata": {},
     "output_type": "execute_result"
    },
    {
     "data": {
      "image/png": "[encoded data removed]",
      "text/plain": [
       "<Figure size 720x504 with 1 Axes>"
      ]
     },
     "metadata": {
      "needs_background": "light"
     },
     "output_type": "display_data"
    }
   ],
   "source": [
    "from sklearn.preprocessing import normalize\n",
    "import scipy.cluster.hierarchy as shc\n",
    "\n",
    "primary_scaled = normalize(primary)\n",
    "primary_scaled = pd.DataFrame(primary_scaled, columns = primary.columns) #index = primary.index\n",
    "primary_scaled \n",
    "\n",
    "#create dendrogram\n",
    "#x-axis contains the samples and y-axis represents the distance between these samples\n",
    "\n",
    "#threshold of 0.2 because that's where we want to cut the dendrogram (number of clusters)\n",
    "#blue line has max vertical distance\n",
    "\n",
    "plt.figure(figsize=(10, 7))  \n",
    "plt.title(\"Dendrograms (primary)\")  \n",
    "dend = shc.dendrogram(shc.linkage(primary_scaled, method='ward'))\n",
    "plt.axhline(y=0.2, color='r', linestyle='--')"
   ]
  },
  {
   "cell_type": "code",
   "execution_count": 88,
   "metadata": {},
   "outputs": [
    {
     "data": {
      "text/plain": [
       "<matplotlib.lines.Line2D at 0x2aa2f5d4b08>"
      ]
     },
     "execution_count": 88,
     "metadata": {},
     "output_type": "execute_result"
    },
    {
     "data": {
      "image/png": "[encoded data removed]",
      "text/plain": [
       "<Figure size 720x504 with 1 Axes>"
      ]
     },
     "metadata": {
      "needs_background": "light"
     },
     "output_type": "display_data"
    }
   ],
   "source": [
    "recurrent_scaled = normalize(recurrent)\n",
    "recurrent_scaled = pd.DataFrame(recurrent_scaled, columns = recurrent.columns) #index = primary.index \n",
    "\n",
    "#create dendrogram\n",
    "#x-axis contains the samples and y-axis represents the distance between these samples\n",
    "\n",
    "#threshold of 0.3 because that's where we want to cut the dendrogram (number of undisrupted clusters)\n",
    "#blue line has max vertical distance\n",
    "\n",
    "plt.figure(figsize=(10, 7))  \n",
    "plt.title(\"Dendrograms (recurrent)\")  \n",
    "dend = shc.dendrogram(shc.linkage(recurrent_scaled, method='ward'))\n",
    "plt.axhline(y=0.3, color='r', linestyle='--')"
   ]
  },
  {
   "cell_type": "code",
   "execution_count": null,
   "metadata": {},
   "outputs": [],
   "source": []
  },
  {
   "cell_type": "code",
   "execution_count": 90,
   "metadata": {},
   "outputs": [
    {
     "name": "stdout",
     "output_type": "stream",
     "text": [
      "[0 2 0 2 0 0 2 0 2 2 2 2 0 2 2 2 0 2 2 2 2 0 1 3 1 3 1 1 3 1 3 3 3 3 1 3 3\n",
      " 3 1 3 3 3 3 1]\n"
     ]
    },
    {
     "data": {
      "text/plain": [
       "[0.0008, 0.0022, 0.0009, 0.0021]"
      ]
     },
     "execution_count": 90,
     "metadata": {},
     "output_type": "execute_result"
    },
    {
     "data": {
      "image/png": "[encoded data removed]",
      "text/plain": [
       "<Figure size 720x504 with 1 Axes>"
      ]
     },
     "metadata": {
      "needs_background": "light"
     },
     "output_type": "display_data"
    }
   ],
   "source": [
    "#apply hierarchical clustering for 2 clusters because it intersects the line in two places\n",
    "#primary scaled data for the first two genes\n",
    "\n",
    "from sklearn.cluster import AgglomerativeClustering\n",
    "cluster = AgglomerativeClustering(n_clusters=4, affinity='euclidean', linkage='ward')  \n",
    "print(cluster.fit_predict(primary_scaled))\n",
    "\n",
    "#0 for points in the first cluster and 1 for points in the second\n",
    "plt.figure(figsize=(10, 7))  \n",
    "\n",
    "plt.scatter(primary_scaled['cg01707559'], primary_scaled[\"cg02233190\"], c=cluster.labels_, cmap='rainbow')\n",
    "plt.axis([0.0008, 0.0022, 0.0009, 0.0021])"
   ]
  }
 ],
 "metadata": {
  "kernelspec": {
   "display_name": "Python 3",
   "language": "python",
   "name": "python3"
  },
  "language_info": {
   "codemirror_mode": {
    "name": "ipython",
    "version": 3
   },
   "file_extension": ".py",
   "mimetype": "text/x-python",
   "name": "python",
   "nbconvert_exporter": "python",
   "pygments_lexer": "ipython3",
   "version": "3.7.6"
  }
 },
 "nbformat": 4,
 "nbformat_minor": 4
}
