{
 "cells": [
  {
   "cell_type": "markdown",
   "metadata": {},
   "source": [
    "**indexing the necessary dataframes and converting to nparrays**"
   ]
  },
  {
   "cell_type": "code",
   "execution_count": 2,
   "metadata": {},
   "outputs": [],
   "source": [
    "import pandas as pd\n",
    "from matplotlib import pyplot as plt\n",
    "import numpy as np\n",
    "\n",
    "#loading df\n",
    "file = 'C:/Users/{kr.pA}/Downloads/methylated data/modified.csv'\n",
    "df = pd.read_csv(file, sep = ',')\n",
    "\n",
    "#editing df to desired format\n",
    "df = df.transpose()\n",
    "\n",
    "df.insert(416349, 416349, ['Patient Number','Patient 3 rep 1', 'Patient 3 rep 1','Patient 3 rep 1','Patient 3 rep 1','Patient 9','Patient 9','Patient 9','Patient 9','Patient 10','Patient 10',\n",
    "             'Patient 11','Patient 11','Patient 11','Patient 11','Patient 12 rep 1','Patient 12 rep 1','Patient 14','Patient 14','Patient 14 rep 1','Patient 14 rep 1',\n",
    "             'Patient 1','Patient 1','Patient 1','Patient 1','Patient 2','Patient 2','Patient 2','Patient 2','Patient 3','Patient 3',\n",
    "             'Patient 3', 'Patient 3','Patient 4', 'Patient 4','Patient 4', 'Patient 4','Patient 7','Patient 7','Patient 7','Patient 7',\n",
    "             'Patient 8','Patient 8','Patient 8','Patient 8','Patient 9','Patient 9','Patient 10','Patient 10','Patient 12','Patient 12',\n",
    "             'Patient 14','Patient 14','Patient 15','Patient 15','Patient 15','Patient 15','Patient 16','Patient 16','Patient 16','Patient 16',\n",
    "             'Patient 18','Patient 18','Patient 18','Patient 18','Patient 19','Patient 19','Patient 19','Patient 19','Patient 20','Patient 20',\n",
    "             'Patient 20','Patient 20','Patient 21','Patient 21','Patient 21','Patient 21','Patient 22','Patient 22','Patient 22','Patient 22',\n",
    "             'Patient 26','Patient 26','Patient 26','Patient 26','Patient 28','Patient 28','Patient 28','Patient 28','Patient 29','Patient 29',\n",
    "             'Patient 29','Patient 29','Patient 29 rep 2','Patient 29 rep 2'], True) \n",
    "\n",
    "#populating a list of the genes and the patient number heading to rename the columns and initialize features list\n",
    "genelist = list(df.iloc[0,0:])\n",
    "\n",
    "features = genelist[:-1]\n",
    "df.columns = genelist\n",
    "\n",
    "#print(genelist)\n",
    "\n",
    "df = df.drop(['ID_REF'], axis = 0)\n",
    "\n",
    "#transform and create histograms out of nparray slicing\n",
    "\n",
    "df_data = df.drop(['Patient Number'], axis =1)\n",
    "npdata = df_data.to_numpy()\n",
    "\n",
    "# need to separate out by methylated and unmethylated values\n",
    "# we do this by deleting even and odd indices\n",
    "\n",
    "meth = df_data.iloc[::2].to_numpy()\n",
    "unmeth = df_data.iloc[1::2].to_numpy()\n"
   ]
  },
  {
   "cell_type": "code",
   "execution_count": null,
   "metadata": {},
   "outputs": [],
   "source": []
  },
  {
   "cell_type": "markdown",
   "metadata": {},
   "source": [
    "**log transform df_data**"
   ]
  },
  {
   "cell_type": "code",
   "execution_count": 241,
   "metadata": {},
   "outputs": [],
   "source": [
    "import numpy as np\n",
    "\n",
    "logdata = df_data.astype(float)\n",
    "logdata = logdata.transform(np.log)"
   ]
  },
  {
   "cell_type": "markdown",
   "metadata": {},
   "source": [
    "**skewnorm analysis on raw data**"
   ]
  },
  {
   "cell_type": "code",
   "execution_count": 242,
   "metadata": {},
   "outputs": [
    {
     "name": "stdout",
     "output_type": "stream",
     "text": [
      "skew value: 2.491787174948094\n"
     ]
    }
   ],
   "source": [
    "import scipy\n",
    "from scipy import stats\n",
    "from scipy.stats import skewnorm \n",
    "\n",
    "a = scipy.stats.skew(npdata, None, True)\n",
    "print(\"skew value:\", a)\n",
    "\n",
    "\n",
    "\n"
   ]
  },
  {
   "cell_type": "markdown",
   "metadata": {},
   "source": [
    "- use matplotlib to finish the unmeth vs meth scatter plots (color code groups)\n",
    "- separate into primary and recurrent tumors (two scatter plots divided by meth vs unmeth color)\n",
    "- find patterns in meth vs unmeth and recurrent vs primary using scatter plots\n",
    "- determine sample to sample variations by log transforming PCA (color code --> patterns)\n",
    "- perform PCA within, recurrent, primary separations\n",
    "\n",
    "**UPLOAD AND UPDATE ALL FINAL CODES ON GITHUB**"
   ]
  },
  {
   "cell_type": "markdown",
   "metadata": {},
   "source": [
    "***separating out df_data into the primary and recurrent dataframes***"
   ]
  },
  {
   "cell_type": "code",
   "execution_count": 252,
   "metadata": {},
   "outputs": [],
   "source": [
    "missing = df_data.iloc[10:16]\n",
    "\n",
    "#recur1 = unmeth\n",
    "#recur2 = meth\n",
    "#prim1 = unmeth\n",
    "#prim2 = meth\n",
    "\n",
    "recurmissing = missing.iloc[2:]\n",
    "\n",
    "#recurrent\n",
    "\n",
    "recur1 = df_data.iloc[3::4]\n",
    "recur1 = recur1.drop(\"Patient 11_primary tumour Unmethylated signal\")\n",
    "\n",
    "recur1 = pd.concat([recur1, recurmissing.iloc[1::2]])\n",
    "\n",
    "recur2 = df_data.iloc[2::4]\n",
    "recur2 = recur2.drop(\"Patient 11_primary tumour Methylated signal\")\n",
    "\n",
    "\n",
    "s = df_data.iloc[-1:]\n",
    "recur1 = pd.concat([recur1, s])\n",
    "\n",
    "xs = df_data.iloc[-2:-1]\n",
    "recur2= pd.concat([recur2, xs])\n",
    "recur2= pd.concat([recur2, recurmissing.iloc[::2]])\n",
    "\n",
    "\n",
    "#primary\n",
    "\n",
    "prim1 = df_data.iloc[1::4]\n",
    "prim1 = prim1.drop(\"Patient 11_recurrent tumour Unmethylated signal\")\n",
    "prim1 = prim1.drop(\"Patient 12_recurrent tumour Unmethylated signal\")\n",
    "prim1 = prim1.drop(\"Patient 29_recurrent tumour_2 Unmethylated signal\")\n",
    "\n",
    "prim1 = pd.concat([prim1, missing.iloc[1:2]])\n",
    "\n",
    "prim2 = df_data.iloc[::4]\n",
    "prim2 = prim2.drop(\"Patient 11_recurrent tumour Methylated signal\")\n",
    "prim2 = prim2.drop(\"Patient 12_recurrent tumour Methylated signal\")\n",
    "prim2 = prim2.drop(\"Patient 29_recurrent tumour_2 Methylated signal\")\n",
    "\n",
    "prim2= pd.concat([prim2,missing.iloc[0:1]])\n",
    "\n",
    "#final indexed dataframes for the primary and recurrent data (separated by meth and unmeth within)\n",
    "\n",
    "primary = pd.concat([prim1,prim2])   \n",
    "recurrent = pd.concat([recur1, recur2])\n",
    "\n"
   ]
  },
  {
   "cell_type": "markdown",
   "metadata": {},
   "source": [
    "**scatter analysis on transformed data (unmethylated vs methylated)**"
   ]
  },
  {
   "cell_type": "code",
   "execution_count": 253,
   "metadata": {},
   "outputs": [
    {
     "data": {
      "text/plain": [
       "<matplotlib.collections.PathCollection at 0x26f90e4a1c8>"
      ]
     },
     "execution_count": 253,
     "metadata": {},
     "output_type": "execute_result"
    },
    {
     "data": {
      "image/png": "[encoded data removed]",
      "text/plain": [
       "<Figure size 432x288 with 1 Axes>"
      ]
     },
     "metadata": {
      "needs_background": "light"
     },
     "output_type": "display_data"
    }
   ],
   "source": [
    "#log transform on both subsets\n",
    "primarylog = primary.astype(float)\n",
    "primarylog = primarylog.transform(np.log)\n",
    "\n",
    "recurrentlog = recurrent.astype(float)\n",
    "recurrentlog = recurrentlog.transform(np.log)\n",
    "\n",
    "#methylated (y) vs unmethylated data (x) separating primary and recurrent sets\n",
    "\n",
    "#primary tumors\n",
    "plt.scatter(primarylog[0:22], primarylog[22:], c = 'red')\n",
    "\n",
    "#recurrent tumors\n",
    "plt.scatter(recurrentlog[0:25], recurrentlog[25:], c = 'darkblue')\n"
   ]
  },
  {
   "cell_type": "code",
   "execution_count": null,
   "metadata": {},
   "outputs": [],
   "source": []
  }
 ],
 "metadata": {
  "kernelspec": {
   "display_name": "Python 3",
   "language": "python",
   "name": "python3"
  },
  "language_info": {
   "codemirror_mode": {
    "name": "ipython",
    "version": 3
   },
   "file_extension": ".py",
   "mimetype": "text/x-python",
   "name": "python",
   "nbconvert_exporter": "python",
   "pygments_lexer": "ipython3",
   "version": "3.7.6"
  }
 },
 "nbformat": 4,
 "nbformat_minor": 4
}
