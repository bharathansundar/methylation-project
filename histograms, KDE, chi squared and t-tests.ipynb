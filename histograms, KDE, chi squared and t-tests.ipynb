{
 "cells": [
  {
   "cell_type": "markdown",
   "metadata": {},
   "source": [
    "**indexing the necessary dataframes and converting to nparrays**"
   ]
  },
  {
   "cell_type": "code",
   "execution_count": null,
   "metadata": {},
   "outputs": [],
   "source": [
    "import pandas as pd\n",
    "from matplotlib import pyplot as plt\n",
    "import numpy as np\n",
    "\n",
    "#loading df\n",
    "file = 'C:/Users/{kr.pA}/Downloads/methylated data/modified.csv'\n",
    "df = pd.read_csv(file, sep = ',')\n",
    "\n",
    "#editing df to desired format\n",
    "df = df.transpose()\n",
    "\n",
    "df.insert(416349, 416349, ['Patient Number','Patient 3 rep 1', 'Patient 3 rep 1','Patient 3 rep 1','Patient 3 rep 1','Patient 9','Patient 9','Patient 9','Patient 9','Patient 10','Patient 10',\n",
    "             'Patient 11','Patient 11','Patient 11','Patient 11','Patient 12 rep 1','Patient 12 rep 1','Patient 14','Patient 14','Patient 14 rep 1','Patient 14 rep 1',\n",
    "             'Patient 1','Patient 1','Patient 1','Patient 1','Patient 2','Patient 2','Patient 2','Patient 2','Patient 3','Patient 3',\n",
    "             'Patient 3', 'Patient 3','Patient 4', 'Patient 4','Patient 4', 'Patient 4','Patient 7','Patient 7','Patient 7','Patient 7',\n",
    "             'Patient 8','Patient 8','Patient 8','Patient 8','Patient 9','Patient 9','Patient 10','Patient 10','Patient 12','Patient 12',\n",
    "             'Patient 14','Patient 14','Patient 15','Patient 15','Patient 15','Patient 15','Patient 16','Patient 16','Patient 16','Patient 16',\n",
    "             'Patient 18','Patient 18','Patient 18','Patient 18','Patient 19','Patient 19','Patient 19','Patient 19','Patient 20','Patient 20',\n",
    "             'Patient 20','Patient 20','Patient 21','Patient 21','Patient 21','Patient 21','Patient 22','Patient 22','Patient 22','Patient 22',\n",
    "             'Patient 26','Patient 26','Patient 26','Patient 26','Patient 28','Patient 28','Patient 28','Patient 28','Patient 29','Patient 29',\n",
    "             'Patient 29','Patient 29','Patient 29 rep 2','Patient 29 rep 2'], True) \n",
    "\n",
    "#populating a list of the genes and the patient number heading to rename the columns and initialize features list\n",
    "genelist = list(df.iloc[0,0:])\n",
    "\n",
    "features = genelist[:-1]\n",
    "df.columns = genelist\n",
    "\n",
    "#print(genelist)\n",
    "\n",
    "df = df.drop(['ID_REF'], axis = 0)\n",
    "\n",
    "#transform and create histograms out of nparray slicing\n",
    "\n",
    "df_data = df.drop(['Patient Number'], axis =1)\n",
    "npdata = df_data.to_numpy()\n",
    "\n",
    "# need to separate out by methylated and unmethylated values\n",
    "# we do this by deleting even and odd indices\n",
    "\n",
    "meth = df_data.iloc[::2].to_numpy()\n",
    "meth = meth.astype('float')\n",
    "unmeth = df_data.iloc[1::2].to_numpy()\n",
    "unmeth = unmeth.astype('float')\n"
   ]
  },
  {
   "cell_type": "markdown",
   "metadata": {},
   "source": [
    "**creating histograms for separated (by methylation) and combined datasets using matplotlib**"
   ]
  },
  {
   "cell_type": "code",
   "execution_count": null,
   "metadata": {},
   "outputs": [
    {
     "name": "stdout",
     "output_type": "stream",
     "text": [
      "untransformed methylated\n"
     ]
    },
    {
     "data": {
      "image/png": "[encoded data removed]",
      "text/plain": [
       "<Figure size 432x288 with 1 Axes>"
      ]
     },
     "metadata": {
      "needs_background": "light"
     },
     "output_type": "display_data"
    },
    {
     "name": "stdout",
     "output_type": "stream",
     "text": [
      "untransformed unmethylated\n"
     ]
    },
    {
     "data": {
      "image/png": "[encoded data removed]",
      "text/plain": [
       "<Figure size 432x288 with 1 Axes>"
      ]
     },
     "metadata": {
      "needs_background": "light"
     },
     "output_type": "display_data"
    },
    {
     "name": "stdout",
     "output_type": "stream",
     "text": [
      "untransformed total\n"
     ]
    }
   ],
   "source": [
    "#separated histograms\n",
    "print(\"untransformed methylated\")\n",
    "for i in meth:\n",
    "    plt.hist(i, bins = 50)\n",
    "plt.show()\n",
    "\n",
    "print(\"untransformed unmethylated\")\n",
    "for i in unmeth:\n",
    "    plt.hist(i, bins = 50)\n",
    "plt.show()\n",
    "\n",
    "#combined graphs\n",
    "print(\"untransformed total\")\n",
    "for i in npdata:\n",
    "    plt.hist(i, bins = 50)\n",
    "plt.show()\n",
    "\n",
    "print(\"log transformed total\")\n",
    "for i in npdata:\n",
    "    plt.hist(i, bins = 50, log = True)\n",
    "plt.show()\n",
    "    "
   ]
  },
  {
   "cell_type": "markdown",
   "metadata": {},
   "source": [
    "**CHI SQUARED GOODNESS OF FIT**"
   ]
  },
  {
   "cell_type": "code",
   "execution_count": 6,
   "metadata": {},
   "outputs": [
    {
     "data": {
      "text/plain": [
       "Power_divergenceResult(statistic=array([8.0964623 , 6.46194622, 2.44448826, ..., 3.60636022, 1.96020765,\n",
       "       1.94855478]), pvalue=array([1., 1., 1., ..., 1., 1., 1.]))"
      ]
     },
     "execution_count": 6,
     "metadata": {},
     "output_type": "execute_result"
    }
   ],
   "source": [
    "from scipy.stats import chisquare\n",
    "meth = meth.astype('float')\n",
    "logmeth = np.log(meth)\n",
    "\n",
    "chisquare(logmeth)\n"
   ]
  },
  {
   "cell_type": "markdown",
   "metadata": {},
   "source": [
    "**WELCH'S T-TEST**\n"
   ]
  },
  {
   "cell_type": "code",
   "execution_count": 22,
   "metadata": {},
   "outputs": [
    {
     "data": {
      "text/plain": [
       "Ttest_indResult(statistic=array([ -2.07250769,  -5.9978199 , -23.8977615 , ..., -18.80163008,\n",
       "       -19.89798483, -18.05994256]), pvalue=array([4.17090305e-02, 3.92531927e-08, 4.25798422e-41, ...,\n",
       "       7.28306434e-33, 8.37900054e-34, 2.15442785e-31]))"
      ]
     },
     "execution_count": 22,
     "metadata": {},
     "output_type": "execute_result"
    }
   ],
   "source": [
    "import scipy\n",
    "from scipy import stats\n",
    "logunmeth = np.log(unmeth)\n",
    "scipy.stats.ttest_ind(logmeth, logunmeth, equal_var = False)"
   ]
  },
  {
   "cell_type": "markdown",
   "metadata": {},
   "source": [
    "**USING SEABORN FOR VISUALIZATION**"
   ]
  },
  {
   "cell_type": "code",
   "execution_count": null,
   "metadata": {},
   "outputs": [],
   "source": [
    "import seaborn as sns\n",
    "sns.set()\n",
    "\n",
    "\n",
    "# use kernel density estimation (smooth curves)\n",
    "\n",
    "print(\"untransformed total\")\n",
    "\n",
    "for i in npdata:\n",
    "    sns.kdeplot(i, shade=True)\n",
    "    plt.xscale('log')\n",
    "plt.show()\n",
    "\n",
    "sns.kdeplot(df_data, shade = True)\n",
    "\n"
   ]
  },
  {
   "cell_type": "code",
   "execution_count": 46,
   "metadata": {},
   "outputs": [],
   "source": [
    "#np.save(\"C:/Users/{kr.pA}/Downloads/methylated data\",npdata)\n",
    "#df_data.to_csv(r'C:/Users/{kr.pA}/Downloads/methylated data\\df_data.csv')"
   ]
  },
  {
   "cell_type": "code",
   "execution_count": null,
   "metadata": {},
   "outputs": [],
   "source": []
  }
 ],
 "metadata": {
  "kernelspec": {
   "display_name": "Python 3",
   "language": "python",
   "name": "python3"
  },
  "language_info": {
   "codemirror_mode": {
    "name": "ipython",
    "version": 3
   },
   "file_extension": ".py",
   "mimetype": "text/x-python",
   "name": "python",
   "nbconvert_exporter": "python",
   "pygments_lexer": "ipython3",
   "version": "3.7.6"
  }
 },
 "nbformat": 4,
 "nbformat_minor": 4
}
